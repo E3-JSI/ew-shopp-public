{
 "cells": [
  {
   "cell_type": "markdown",
   "metadata": {},
   "source": [
    "# Weather data preparation"
   ]
  },
  {
   "cell_type": "markdown",
   "metadata": {},
   "source": [
    "Weather data can be downloaded from [ECMWF](https://www.ecmwf.int/) archive using weather API provided by JSI. Installation instructions and other information about the API can be found [here](https://github.com/JozefStefanInstitute/weather-data). "
   ]
  },
  {
   "cell_type": "markdown",
   "metadata": {},
   "source": [
    "We are using weather data from 1.11.2017 to 30.11.2017 for Slovenia."
   ]
  },
  {
   "cell_type": "markdown",
   "metadata": {},
   "source": [
    "## 1. Weather data download"
   ]
  },
  {
   "cell_type": "markdown",
   "metadata": {},
   "source": [
    "Example of weather data downloading can be found [here](https://github.com/JozefStefanInstitute/weather-data/blob/master/example.py).\n",
    "\n",
    "In the future steps we will assume that we have already downloaded the weather forecast as described in the example. Corresponding grib file is located in ***data/slovenia-nov2017.grib***."
   ]
  },
  {
   "cell_type": "markdown",
   "metadata": {},
   "source": [
    "## 2. Weather data transformation"
   ]
  },
  {
   "cell_type": "markdown",
   "metadata": {},
   "source": [
    "We curently have a file in **grib** format which cannot be imported to QMiner directly. We first have to transform it to **tsv** format. This can be done using weather-api."
   ]
  },
  {
   "cell_type": "code",
   "execution_count": 5,
   "metadata": {},
   "outputs": [
    {
     "name": "stdout",
     "output_type": "stream",
     "text": [
      "Extending parameters...\n"
     ]
    }
   ],
   "source": [
    "from weather.weather import WeatherExtractor\n",
    "\n",
    "we = WeatherExtractor()\n",
    "\n",
    "# load weather data\n",
    "we.load(['data/slovenia-nov2017.grib'])"
   ]
  },
  {
   "cell_type": "code",
   "execution_count": 10,
   "metadata": {},
   "outputs": [
    {
     "name": "stdout",
     "output_type": "stream",
     "text": [
      " Number of weather points 105\n"
     ]
    }
   ],
   "source": [
    "print \"Number of weather points\", len(we.grib_msgs['values'].iloc[0])"
   ]
  },
  {
   "cell_type": "markdown",
   "metadata": {},
   "source": [
    "We now have weather data for **105** points evenly spread across Slovenia. However we are interested only in a small subset of them - in our case this are points that correspond to locations of Slovenian weather agency measuring stations. We will call this interesting points **interpolation points**."
   ]
  },
  {
   "cell_type": "code",
   "execution_count": 11,
   "metadata": {},
   "outputs": [],
   "source": [
    "interp_points = [\n",
    "  { \"lat\": 45.8958,     \"alt\": 55.0,        \"lon\": 13.6289,     \"shortTitle\": \"BILJE\",    \"title\": \"NOVA GORICA\" },  \n",
    "  { \"lat\": 46.2447,     \"alt\": 244.0,       \"lon\": 15.2525,     \"shortTitle\": \"CELJE\",    \"title\": \"CELJE\" },  \n",
    "  { \"lat\": 45.5603,     \"alt\": 157.0,       \"lon\": 15.1508,     \"shortTitle\": \"\\u010cRNOMELJ - DOBLI\\u010cE\",    \"title\": \"CRNOMELJ\" },\n",
    "  { \"lat\": 46.3794,     \"alt\": 2514.0,      \"lon\": 13.8539,     \"shortTitle\": \"KREDARICA\",    \"title\": \"KREDARICA\" },  \n",
    "  { \"lat\": 45.8936,     \"alt\": 154.0,       \"lon\": 15.525,      \"shortTitle\": \"CERKLJE - LETALI\\u0160\\u010cE\",    \"title\": \"CERKLJE - LETALISCE\" },\n",
    "  { \"lat\": 46.48,       \"alt\": 264.0,       \"lon\": 15.6869,     \"shortTitle\": \"MARIBOR - LETALI\\u0160\\u010cE\",    \"title\": \"MARIBOR/SLIVNICA\" },  \n",
    "  { \"lat\": 46.2178,     \"alt\": 364.0,       \"lon\": 14.4775,     \"shortTitle\": \"BRNIK - LETALI\\u0160\\u010cE\",    \"title\": \"LJUBLJANA/BRNIK\" },  \n",
    "  { \"lat\": 46.37,       \"alt\": 515.0,       \"lon\": 14.18,       \"shortTitle\": \"LESCE\",    \"title\": \"LESCE\" },\n",
    "  { \"lat\": 45.4756,     \"alt\": 2.0,         \"lon\": 13.6206,     \"shortTitle\": \"PORTORO\\u017d - LETALI\\u0160\\u010cE\",    \"title\": \"PORTOROZ/SECOVLJE\" },  \n",
    "  { \"lat\": 46.0681,     \"alt\": 943.0,       \"lon\": 15.2897,     \"shortTitle\": \"LISCA\",    \"title\": \"LISCA\" },  \n",
    "  { \"lat\": 46.0658,     \"alt\": 299.0,       \"lon\": 14.5172,     \"shortTitle\": \"LJUBLJANA - BE\\u017dIGRAD\",    \"title\": \"LJUBLJANA/BEZIGRAD\" },\n",
    "  { \"lat\": 46.6525,     \"alt\": 188.0,       \"lon\": 16.1961,     \"shortTitle\": \"MURSKA SOBOTA - RAKI\\u010cAN\",    \"title\": \"MURSKA SOBOTA\" },\n",
    "  { \"lat\": 45.8019,     \"alt\": 220.0,       \"lon\": 15.1822,     \"shortTitle\": \"NOVO MESTO\",    \"title\": \"NOVO MESTO\" },\n",
    "  { \"lat\": 45.7664,     \"alt\": 533.0,       \"lon\": 14.1975,     \"shortTitle\": \"POSTOJNA\",    \"title\": \"POSTOJNA\" },\n",
    "  { \"lat\": 46.4975,     \"alt\": 864.0,       \"lon\": 13.7175,     \"shortTitle\": \"RATE\\u010cE - PLANICA\",    \"title\": \"RATECE\" },\n",
    "  { \"lat\": 46.49,       \"alt\": 455.0,       \"lon\": 15.1161,     \"shortTitle\": \"\\u0160MARTNO PRI SLOVENJ GRADCU\",    \"title\": \"SLOVENJ GRADEC\" }\n",
    "]"
   ]
  },
  {
   "cell_type": "markdown",
   "metadata": {},
   "source": [
    "Export weather data in **tsv** format keeping only measurements from **interpolation points**"
   ]
  },
  {
   "cell_type": "code",
   "execution_count": 14,
   "metadata": {},
   "outputs": [],
   "source": [
    "we.export('data/slovenia-nov2017.tsv', interp_points)"
   ]
  },
  {
   "cell_type": "markdown",
   "metadata": {},
   "source": [
    "## 3. Preparing data for QMiner"
   ]
  },
  {
   "cell_type": "markdown",
   "metadata": {},
   "source": [
    "Default weather-api tsv format does not correspond to the format defined in **QMiner schema**. We have to do one more transformation **... to be removed in the future**\n",
    "\n",
    "In this example setting we will only use **Surface Temperature (2t)** and **Total Percipitation (tp)** measurements."
   ]
  },
  {
   "cell_type": "code",
   "execution_count": 15,
   "metadata": {},
   "outputs": [],
   "source": [
    "import pandas as pd\n",
    "\n",
    "# load weather measurements\n",
    "df = pd.read_csv('data/slovenia-nov2017.tsv', sep='\\t')"
   ]
  },
  {
   "cell_type": "code",
   "execution_count": 16,
   "metadata": {},
   "outputs": [],
   "source": [
    "# keep only temperature and percipitation\n",
    "df = df[(df.shortName == '2t') | (df.shortName == 'tp')]"
   ]
  },
  {
   "cell_type": "code",
   "execution_count": 20,
   "metadata": {},
   "outputs": [],
   "source": [
    "# transform to new schema\n",
    "new_rows = []\n",
    "\n",
    "groups = df.groupby(['shortName', 'validDate', 'dayOffset', 'region', 'fromHour', 'toHour'])\n",
    "for i, (name, group) in enumerate(groups):\n",
    "    new_rows.append({\n",
    "\t\t'weatherParam': name[0],\n",
    "\t\t'timestamp': name[1],\n",
    "\t\t'dayOffset': name[2],\n",
    "\t\t'region': name[3],\n",
    "\t\t'fromHour': name[4],\n",
    "\t\t'toHour': name[5],\n",
    "\t\t'max': -1., 'min': -1., 'mean': -1., 'cum': -1.\n",
    "\t})\n",
    "    for _, curr in group.iterrows():\n",
    "        new_rows[-1][curr.aggFunc] = curr.value\n",
    "        \n",
    "new_rows = pd.DataFrame.from_dict(new_rows)"
   ]
  },
  {
   "cell_type": "markdown",
   "metadata": {},
   "source": [
    "Mind the difference between default weather-api schema:"
   ]
  },
  {
   "cell_type": "code",
   "execution_count": 19,
   "metadata": {},
   "outputs": [
    {
     "name": "stdout",
     "output_type": "stream",
     "text": [
      "    aggFunc  dayOffset                 featureName  fromHour  region  \\\n",
      "448     cum          0  WEATHERFC+000tp000CUM00-06         0       0   \n",
      "449     cum          0  WEATHERFC+000tp001CUM00-06         0       1   \n",
      "450     cum          0  WEATHERFC+000tp002CUM00-06         0       2   \n",
      "451     cum          0  WEATHERFC+000tp003CUM00-06         0       3   \n",
      "452     cum          0  WEATHERFC+000tp004CUM00-06         0       4   \n",
      "\n",
      "    shortName  toHour   validDate  value  \n",
      "448        tp       6  2017-11-01    0.0  \n",
      "449        tp       6  2017-11-01    0.0  \n",
      "450        tp       6  2017-11-01    0.0  \n",
      "451        tp       6  2017-11-01    0.0  \n",
      "452        tp       6  2017-11-01    0.0  \n"
     ]
    }
   ],
   "source": [
    "print df.head()"
   ]
  },
  {
   "cell_type": "markdown",
   "metadata": {},
   "source": [
    "And schema for QMiner import:"
   ]
  },
  {
   "cell_type": "code",
   "execution_count": 21,
   "metadata": {},
   "outputs": [
    {
     "name": "stdout",
     "output_type": "stream",
     "text": [
      "   cum  dayOffset  fromHour         max        mean         min  region  \\\n",
      "0 -1.0          0         0  278.960205  277.800659  276.641113       0   \n",
      "1 -1.0          0         6  285.279785  282.785482  278.960205       0   \n",
      "2 -1.0          0         6  285.279785  282.587305  278.960205       0   \n",
      "3 -1.0          0        12  285.279785  283.286621  281.368164       0   \n",
      "4 -1.0          0         0  276.062500  274.747192  273.431885       1   \n",
      "\n",
      "    timestamp  toHour weatherParam  \n",
      "0  2017-11-01       6           2t  \n",
      "1  2017-11-01      12           2t  \n",
      "2  2017-11-01      18           2t  \n",
      "3  2017-11-01      18           2t  \n",
      "4  2017-11-01       6           2t  \n"
     ]
    }
   ],
   "source": [
    "print new_rows.head()"
   ]
  },
  {
   "cell_type": "markdown",
   "metadata": {},
   "source": [
    "Finally store converted data:"
   ]
  },
  {
   "cell_type": "code",
   "execution_count": 22,
   "metadata": {},
   "outputs": [],
   "source": [
    "new_rows.to_csv('data/slovenia-nov2017_qminer.tsv', sep='\\t', index=False)"
   ]
  },
  {
   "cell_type": "code",
   "execution_count": null,
   "metadata": {},
   "outputs": [],
   "source": []
  }
 ],
 "metadata": {
  "kernelspec": {
   "display_name": "Python 2",
   "language": "python",
   "name": "python2"
  },
  "language_info": {
   "codemirror_mode": {
    "name": "ipython",
    "version": 2
   },
   "file_extension": ".py",
   "mimetype": "text/x-python",
   "name": "python",
   "nbconvert_exporter": "python",
   "pygments_lexer": "ipython2",
   "version": "2.7.12"
  }
 },
 "nbformat": 4,
 "nbformat_minor": 2
}
