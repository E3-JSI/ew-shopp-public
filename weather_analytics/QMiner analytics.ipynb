{
 "cells": [
  {
   "cell_type": "markdown",
   "metadata": {},
   "source": [
    "# QMiner analytics guide"
   ]
  },
  {
   "cell_type": "markdown",
   "metadata": {},
   "source": [
    "Data analytics is done in QMiner which is an analytics platform for large-scale real-time streams containing structured and unstructured data. It is developed by AILab at Jozef Stefan Institute, Quintelligence and other contributors.\n",
    "\n",
    "We are using QMiner's [javascript-API](https://rawgit.com/qminer/qminer/master/nodedoc/index.html).\n",
    "Installation instructions, documentation and other can be found on [QMiner homepage](https://qminer.github.io/)\n"
   ]
  },
  {
   "cell_type": "markdown",
   "metadata": {},
   "source": [
    "## 1. Setup\n",
    "All analytics dependencies can be installed using **setup.sh** script, you need to have [NodeJs](https://nodejs.org/en/download/package-manager/) installed."
   ]
  },
  {
   "cell_type": "code",
   "execution_count": 1,
   "metadata": {},
   "outputs": [
    {
     "data": {
      "text/plain": [
       "'loaded'"
      ]
     },
     "execution_count": 1,
     "metadata": {},
     "output_type": "execute_result"
    }
   ],
   "source": [
    "var qm = require('qminer'); // import QMiner\n",
    "'loaded'\n",
    "\n",
    "var utils = require('./utils.js'); // utility functions"
   ]
  },
  {
   "cell_type": "markdown",
   "metadata": {},
   "source": [
    "## 2. Data import"
   ]
  },
  {
   "cell_type": "markdown",
   "metadata": {},
   "source": [
    "In order to use the analytics data (weather data and sales data) we first have to import it to [QMiner database](https://rawgit.com/qminer/qminer/master/nodedoc/module-qm.Base.html). We need do define a schema for weather data store and sales data store."
   ]
  },
  {
   "cell_type": "code",
   "execution_count": 2,
   "metadata": {},
   "outputs": [],
   "source": [
    "let base = new qm.Base({ \n",
    "    mode: 'createClean',\n",
    "    schema: [\n",
    "        // Products store\n",
    "        {\n",
    "            name: 'Products',\n",
    "            fields: [\n",
    "                { name: \"ProductId\",    type: \"string\", shortstring: true, primary: true },\n",
    "                { name: \"ProductType\",  type: \"string\", shortstring: true }\n",
    "            ],\n",
    "            joins: [\n",
    "                { name: \"wasSold\",      type: \"index\", store: \"Sales\", inverse: \"soldProduct\" }\n",
    "            ]\n",
    "        },\n",
    "        \n",
    "        // Sales store\n",
    "        {\n",
    "            name: 'Sales',\n",
    "            fields: [\n",
    "                { name: \"Timestamp\",    type: \"datetime\" },\n",
    "                { name: \"Quantity\",     type: \"int\" },\n",
    "            ],\n",
    "            joins: [\n",
    "                { name: \"soldProduct\",  type: \"field\", store: \"Products\", inverse: \"wasSold\" }\n",
    "            ]\n",
    "        },\n",
    "        \n",
    "        // Surface temperature parameter (2t) store\n",
    "        {\n",
    "            name: 'T',\n",
    "            fields: [\n",
    "                { name: \"Timestamp\",        type: \"datetime\"},\n",
    "                { name: \"Region\",           type: \"int\"},\n",
    "                { name: \"DayOffset\",        type: \"int\"},\n",
    "                { name: \"FromHour\",         type: \"int\"},\n",
    "                { name: \"ToHour\",           type: \"int\"},\n",
    "                \n",
    "                { name: \"Max\",              type: \"float\"},\n",
    "                { name: \"Min\",              type: \"float\"},\n",
    "                { name: \"Mean\",             type: \"float\"}\n",
    "            ]\n",
    "        },\n",
    "        \n",
    "        // Total percipitation parameter (tp) store\n",
    "        {\n",
    "            name: 'Tp',\n",
    "            fields: [\n",
    "                { name: \"Timestamp\",        type: \"datetime\"},\n",
    "                { name: \"Region\",           type: \"int\"},\n",
    "                { name: \"DayOffset\",        type: \"int\"},\n",
    "                { name: \"FromHour\",         type: \"int\"},\n",
    "                { name: \"ToHour\",           type: \"int\"},\n",
    "                \n",
    "                { name: \"Cum\",              type: \"float\"}\n",
    "            ]\n",
    "        }\n",
    "    ]\n",
    "});\n"
   ]
  },
  {
   "cell_type": "markdown",
   "metadata": {},
   "source": [
    "### 2.1. Weather data import"
   ]
  },
  {
   "cell_type": "code",
   "execution_count": 3,
   "metadata": {},
   "outputs": [],
   "source": [
    "let tempStore = base.store(\"T\"); // temperature store\n",
    "let precipStore = base.store(\"Tp\"); // total precipitation store\n",
    "\n",
    "// weather file parsing logic\n",
    "function onLineWeather(lineVals) {\n",
    "    let weatherParam = lineVals[9];\n",
    "    let timestamp = new Date(lineVals[7]);\n",
    "    timestamp.setHours(0);\n",
    "        \n",
    "    if(weatherParam == '2t'){\n",
    "        let rec = {\n",
    "            Timestamp: timestamp,\n",
    "            Region: parseInt(lineVals[6]),\n",
    "            DayOffset: parseInt(lineVals[1]),\n",
    "            FromHour: parseInt(lineVals[2]),\n",
    "            ToHour: parseInt(lineVals[8]),\n",
    "            Max: parseFloat(lineVals[3]),\n",
    "            Min: parseFloat(lineVals[5]),\n",
    "            Mean: parseFloat(lineVals[4])\n",
    "        };\n",
    "        tempStore.push(rec);\n",
    "    }\n",
    "    else if(weatherParam == 'tp'){\n",
    "        let rec = {\n",
    "            Timestamp: timestamp,\n",
    "            Region: parseInt(lineVals[6]),\n",
    "            DayOffset: parseInt(lineVals[1]),\n",
    "            FromHour: parseInt(lineVals[2]),\n",
    "            ToHour: parseInt(lineVals[8]),\n",
    "            Cum: parseFloat(lineVals[0])\n",
    "        };\n",
    "        precipStore.push(rec);\n",
    "    }\n",
    "}"
   ]
  },
  {
   "cell_type": "code",
   "execution_count": 4,
   "metadata": {},
   "outputs": [
    {
     "name": "stdout",
     "output_type": "stream",
     "text": [
      "Read 30720 lines\n"
     ]
    }
   ],
   "source": [
    "// load weather data\n",
    "utils.readCsvFile('data/slovenia-nov2017_qminer.tsv', onLineWeather);"
   ]
  },
  {
   "cell_type": "markdown",
   "metadata": {},
   "source": [
    "### 2.2. Sales data import"
   ]
  },
  {
   "cell_type": "code",
   "execution_count": 5,
   "metadata": {},
   "outputs": [],
   "source": [
    "let prodStore = base.store(\"Products\");\n",
    "\n",
    "// products file parsing logic\n",
    "function onLineProducts(lineVals) {\n",
    "    let rec = {\n",
    "        ProductId: lineVals[0],\n",
    "        ProductType: lineVals[1]\n",
    "    };\n",
    "    prodStore.push(rec);\n",
    "}"
   ]
  },
  {
   "cell_type": "code",
   "execution_count": 6,
   "metadata": {},
   "outputs": [
    {
     "name": "stdout",
     "output_type": "stream",
     "text": [
      "\r",
      "Read 50 lines\n"
     ]
    }
   ],
   "source": [
    "// load products data\n",
    "utils.readCsvFile('data/Products.tsv', onLineProducts);"
   ]
  },
  {
   "cell_type": "code",
   "execution_count": 7,
   "metadata": {},
   "outputs": [],
   "source": [
    "let salesStore = base.store(\"Sales\");\n",
    "\n",
    "// sales file parsing logic\n",
    "function onLineSales(lineVals) {\n",
    "    let rec = {\n",
    "        Timestamp: new Date(lineVals[2]),\n",
    "        Quantity: parseInt(lineVals[1]),\n",
    "        soldProduct: { ProductId: lineVals[0] }\n",
    "    };\n",
    "    salesStore.push(rec);\n",
    "}\n"
   ]
  },
  {
   "cell_type": "code",
   "execution_count": 8,
   "metadata": {},
   "outputs": [
    {
     "name": "stdout",
     "output_type": "stream",
     "text": [
      "\r",
      "Read 240 lines\n"
     ]
    }
   ],
   "source": [
    "// load sales data\n",
    "utils.readCsvFile('data/Sales.tsv', onLineSales);"
   ]
  },
  {
   "cell_type": "markdown",
   "metadata": {},
   "source": [
    "### 2.3. Store data to disk"
   ]
  },
  {
   "cell_type": "code",
   "execution_count": 9,
   "metadata": {},
   "outputs": [],
   "source": [
    "base.close();"
   ]
  },
  {
   "cell_type": "markdown",
   "metadata": {},
   "source": [
    "## 3. Analytics"
   ]
  },
  {
   "cell_type": "code",
   "execution_count": 10,
   "metadata": {},
   "outputs": [
    {
     "data": {
      "text/plain": [
       "'base loaded'"
      ]
     },
     "execution_count": 10,
     "metadata": {},
     "output_type": "execute_result"
    }
   ],
   "source": [
    "base = new qm.Base({ mode: 'openReadOnly' });\n",
    "'base loaded'"
   ]
  },
  {
   "cell_type": "code",
   "execution_count": 30,
   "metadata": {},
   "outputs": [
    {
     "data": {
      "text/plain": [
       "RecSet { weighted: false, empty: false, length: 21, store: [Getter] }"
      ]
     },
     "execution_count": 30,
     "metadata": {},
     "output_type": "execute_result"
    }
   ],
   "source": [
    "// select only air conditioners\n",
    "acRecords = base.store(\"Products\").allRecords.filter(x => x.ProductType == 'AC');"
   ]
  },
  {
   "cell_type": "code",
   "execution_count": 31,
   "metadata": {},
   "outputs": [
    {
     "data": {
      "text/plain": [
       "[ [ 2017-11-08T14:24:10.000Z, 2 ],\n",
       "  [ 2017-11-12T10:11:06.000Z, 3 ],\n",
       "  [ 2017-11-27T12:18:25.000Z, 3 ],\n",
       "  [ 2017-11-12T14:42:17.000Z, 3 ],\n",
       "  [ 2017-11-02T12:49:15.000Z, 3 ],\n",
       "  [ 2017-11-03T11:52:09.000Z, 3 ],\n",
       "  [ 2017-11-30T14:37:16.000Z, 3 ],\n",
       "  [ 2017-11-25T12:18:17.000Z, 2 ],\n",
       "  [ 2017-11-10T13:38:48.000Z, 3 ],\n",
       "  [ 2017-11-08T14:23:24.000Z, 2 ],\n",
       "  [ 2017-11-22T10:45:14.000Z, 3 ],\n",
       "  [ 2017-11-24T14:51:18.000Z, 2 ],\n",
       "  [ 2017-11-16T12:59:47.000Z, 3 ],\n",
       "  [ 2017-11-08T08:48:32.000Z, 1 ],\n",
       "  [ 2017-11-07T13:22:28.000Z, 2 ],\n",
       "  [ 2017-11-17T11:02:12.000Z, 3 ],\n",
       "  [ 2017-11-22T08:42:40.000Z, 2 ],\n",
       "  [ 2017-11-16T14:04:56.000Z, 1 ],\n",
       "  [ 2017-11-20T07:22:07.000Z, 2 ],\n",
       "  [ 2017-11-12T11:05:20.000Z, 2 ],\n",
       "  [ 2017-11-12T07:01:04.000Z, 1 ],\n",
       "  [ 2017-11-08T10:16:28.000Z, 1 ],\n",
       "  [ 2017-11-23T13:30:29.000Z, 2 ],\n",
       "  [ 2017-11-16T10:53:59.000Z, 1 ],\n",
       "  [ 2017-11-14T09:48:35.000Z, 2 ],\n",
       "  [ 2017-11-16T08:54:42.000Z, 3 ],\n",
       "  [ 2017-11-01T09:04:33.000Z, 1 ],\n",
       "  [ 2017-11-02T15:48:32.000Z, 2 ],\n",
       "  [ 2017-11-21T14:48:58.000Z, 2 ],\n",
       "  [ 2017-11-17T09:20:47.000Z, 3 ],\n",
       "  [ 2017-11-24T13:02:04.000Z, 3 ],\n",
       "  [ 2017-11-25T09:33:21.000Z, 1 ],\n",
       "  [ 2017-11-24T08:38:23.000Z, 2 ],\n",
       "  [ 2017-11-18T14:50:30.000Z, 2 ],\n",
       "  [ 2017-11-28T14:54:50.000Z, 3 ],\n",
       "  [ 2017-11-12T14:41:29.000Z, 2 ],\n",
       "  [ 2017-11-10T11:35:32.000Z, 3 ],\n",
       "  [ 2017-11-15T09:07:08.000Z, 1 ],\n",
       "  [ 2017-11-19T07:13:40.000Z, 3 ],\n",
       "  [ 2017-11-09T10:35:59.000Z, 3 ],\n",
       "  [ 2017-11-17T11:30:25.000Z, 1 ],\n",
       "  [ 2017-11-16T14:59:51.000Z, 2 ],\n",
       "  [ 2017-11-19T14:22:34.000Z, 1 ],\n",
       "  [ 2017-11-01T10:25:24.000Z, 3 ],\n",
       "  [ 2017-11-08T13:52:32.000Z, 1 ],\n",
       "  [ 2017-11-19T11:01:19.000Z, 1 ],\n",
       "  [ 2017-11-30T15:17:15.000Z, 2 ],\n",
       "  [ 2017-11-07T07:16:35.000Z, 3 ],\n",
       "  [ 2017-11-30T07:31:26.000Z, 1 ],\n",
       "  [ 2017-11-06T07:39:17.000Z, 2 ],\n",
       "  [ 2017-11-11T12:01:30.000Z, 3 ],\n",
       "  [ 2017-11-27T12:33:23.000Z, 1 ],\n",
       "  [ 2017-11-14T15:35:11.000Z, 2 ],\n",
       "  [ 2017-11-18T09:08:35.000Z, 3 ],\n",
       "  [ 2017-11-28T15:22:48.000Z, 2 ],\n",
       "  [ 2017-11-18T14:53:57.000Z, 2 ],\n",
       "  [ 2017-11-23T09:58:09.000Z, 3 ],\n",
       "  [ 2017-11-21T07:18:40.000Z, 1 ],\n",
       "  [ 2017-11-13T09:00:52.000Z, 1 ],\n",
       "  [ 2017-11-19T14:22:20.000Z, 1 ],\n",
       "  [ 2017-11-30T09:10:37.000Z, 2 ],\n",
       "  [ 2017-11-11T15:38:24.000Z, 2 ],\n",
       "  [ 2017-11-08T07:49:18.000Z, 3 ],\n",
       "  [ 2017-11-17T14:13:30.000Z, 3 ],\n",
       "  [ 2017-11-30T14:19:06.000Z, 2 ],\n",
       "  [ 2017-11-30T08:30:34.000Z, 1 ],\n",
       "  [ 2017-11-15T13:29:58.000Z, 3 ],\n",
       "  [ 2017-11-28T09:52:20.000Z, 2 ],\n",
       "  [ 2017-11-21T14:17:09.000Z, 3 ],\n",
       "  [ 2017-11-29T12:10:52.000Z, 3 ],\n",
       "  [ 2017-11-03T07:23:43.000Z, 1 ],\n",
       "  [ 2017-11-14T13:38:31.000Z, 1 ],\n",
       "  [ 2017-11-07T09:32:16.000Z, 2 ],\n",
       "  [ 2017-11-16T15:27:50.000Z, 2 ],\n",
       "  [ 2017-11-15T11:02:30.000Z, 3 ],\n",
       "  [ 2017-11-28T07:03:50.000Z, 1 ],\n",
       "  [ 2017-11-22T11:53:49.000Z, 1 ],\n",
       "  [ 2017-11-29T07:23:38.000Z, 3 ],\n",
       "  [ 2017-11-10T10:32:34.000Z, 2 ],\n",
       "  [ 2017-11-10T13:50:22.000Z, 3 ],\n",
       "  [ 2017-11-09T07:49:31.000Z, 2 ],\n",
       "  [ 2017-11-24T12:02:51.000Z, 2 ],\n",
       "  [ 2017-11-23T15:32:34.000Z, 2 ],\n",
       "  [ 2017-11-14T14:35:25.000Z, 3 ],\n",
       "  [ 2017-11-09T15:08:54.000Z, 1 ],\n",
       "  [ 2017-11-22T12:15:31.000Z, 1 ],\n",
       "  [ 2017-11-06T10:43:03.000Z, 1 ],\n",
       "  [ 2017-11-04T14:06:23.000Z, 3 ],\n",
       "  [ 2017-11-05T14:12:50.000Z, 3 ],\n",
       "  [ 2017-11-17T10:00:48.000Z, 3 ],\n",
       "  [ 2017-11-20T10:14:46.000Z, 3 ],\n",
       "  [ 2017-11-09T07:30:59.000Z, 3 ],\n",
       "  [ 2017-11-15T15:33:54.000Z, 2 ],\n",
       "  [ 2017-11-11T14:41:29.000Z, 3 ],\n",
       "  [ 2017-11-24T14:46:48.000Z, 2 ],\n",
       "  [ 2017-11-30T14:55:55.000Z, 3 ],\n",
       "  [ 2017-11-22T13:41:39.000Z, 2 ],\n",
       "  [ 2017-11-27T09:51:18.000Z, 3 ],\n",
       "  [ 2017-11-04T08:37:58.000Z, 2 ],\n",
       "  [ 2017-11-16T08:08:41.000Z, 2 ],\n",
       "  ... 7 more items ]"
      ]
     },
     "execution_count": 31,
     "metadata": {},
     "output_type": "execute_result"
    }
   ],
   "source": [
    "// get all sales data\n",
    "sales = utils.getAllSales(acRecords);"
   ]
  },
  {
   "cell_type": "code",
   "execution_count": 28,
   "metadata": {},
   "outputs": [
    {
     "data": {
      "text/plain": [
       "2017-11-29T23:00:00.000Z"
      ]
     },
     "execution_count": 28,
     "metadata": {},
     "output_type": "execute_result"
    }
   ],
   "source": [
    "startDate = new Date(2017, 11 - 1, 1);\n",
    "endDate = new Date(2017, 11 - 1, 30);"
   ]
  },
  {
   "cell_type": "code",
   "execution_count": 32,
   "metadata": {},
   "outputs": [
    {
     "data": {
      "text/plain": [
       "[ [ 2017-10-31T23:00:00.000Z, 4 ],\n",
       "  [ 2017-11-01T23:00:00.000Z, 5 ],\n",
       "  [ 2017-11-02T23:00:00.000Z, 4 ],\n",
       "  [ 2017-11-03T23:00:00.000Z, 6 ],\n",
       "  [ 2017-11-04T23:00:00.000Z, 3 ],\n",
       "  [ 2017-11-05T23:00:00.000Z, 6 ],\n",
       "  [ 2017-11-06T23:00:00.000Z, 7 ],\n",
       "  [ 2017-11-07T23:00:00.000Z, 12 ],\n",
       "  [ 2017-11-08T23:00:00.000Z, 9 ],\n",
       "  [ 2017-11-09T23:00:00.000Z, 11 ],\n",
       "  [ 2017-11-10T23:00:00.000Z, 8 ],\n",
       "  [ 2017-11-11T23:00:00.000Z, 11 ],\n",
       "  [ 2017-11-12T23:00:00.000Z, 1 ],\n",
       "  [ 2017-11-13T23:00:00.000Z, 8 ],\n",
       "  [ 2017-11-14T23:00:00.000Z, 9 ],\n",
       "  [ 2017-11-15T23:00:00.000Z, 14 ],\n",
       "  [ 2017-11-16T23:00:00.000Z, 13 ],\n",
       "  [ 2017-11-17T23:00:00.000Z, 10 ],\n",
       "  [ 2017-11-18T23:00:00.000Z, 6 ],\n",
       "  [ 2017-11-19T23:00:00.000Z, 5 ],\n",
       "  [ 2017-11-20T23:00:00.000Z, 6 ],\n",
       "  [ 2017-11-21T23:00:00.000Z, 9 ],\n",
       "  [ 2017-11-22T23:00:00.000Z, 7 ],\n",
       "  [ 2017-11-23T23:00:00.000Z, 18 ],\n",
       "  [ 2017-11-24T23:00:00.000Z, 3 ],\n",
       "  [ 2017-11-25T23:00:00.000Z, 0 ],\n",
       "  [ 2017-11-26T23:00:00.000Z, 7 ],\n",
       "  [ 2017-11-27T23:00:00.000Z, 8 ],\n",
       "  [ 2017-11-28T23:00:00.000Z, 6 ],\n",
       "  [ 2017-11-29T23:00:00.000Z, 14 ] ]"
      ]
     },
     "execution_count": 32,
     "metadata": {},
     "output_type": "execute_result"
    }
   ],
   "source": [
    "dailySales = utils.aggDaily(sales, startDate, endDate);"
   ]
  },
  {
   "cell_type": "code",
   "execution_count": 33,
   "metadata": {},
   "outputs": [
    {
     "data": {
      "text/plain": [
       "Matrix { cols: 30, rows: 12 }"
      ]
     },
     "execution_count": 33,
     "metadata": {},
     "output_type": "execute_result"
    }
   ],
   "source": [
    "X = utils.extractFeatures(base, startDate, endDate);"
   ]
  },
  {
   "cell_type": "code",
   "execution_count": 42,
   "metadata": {},
   "outputs": [
    {
     "data": {
      "text/plain": [
       "Vector { length: 30, class: 'Vector' }"
      ]
     },
     "execution_count": 42,
     "metadata": {},
     "output_type": "execute_result"
    }
   ],
   "source": [
    "y = utils.extractPeakLabels(dailySales, 6);"
   ]
  },
  {
   "cell_type": "code",
   "execution_count": 43,
   "metadata": {},
   "outputs": [
    {
     "data": {
      "text/plain": [
       "[ 0,\n",
       "  1,\n",
       "  2,\n",
       "  3,\n",
       "  4,\n",
       "  5,\n",
       "  6,\n",
       "  7,\n",
       "  8,\n",
       "  9,\n",
       "  10,\n",
       "  11,\n",
       "  12,\n",
       "  13,\n",
       "  14,\n",
       "  15,\n",
       "  16,\n",
       "  17,\n",
       "  18,\n",
       "  19,\n",
       "  20,\n",
       "  21,\n",
       "  22,\n",
       "  23,\n",
       "  24,\n",
       "  25,\n",
       "  26,\n",
       "  27,\n",
       "  28,\n",
       "  29 ]"
      ]
     },
     "execution_count": 43,
     "metadata": {},
     "output_type": "execute_result"
    }
   ],
   "source": [
    "groups = utils.getGroups(dailySales.map(x => x[0]), x => x.getDate());"
   ]
  },
  {
   "cell_type": "code",
   "execution_count": 44,
   "metadata": {},
   "outputs": [
    {
     "data": {
      "text/plain": [
       "Vector { length: 30, class: 'Vector' }"
      ]
     },
     "execution_count": 44,
     "metadata": {},
     "output_type": "execute_result"
    }
   ],
   "source": [
    "y_pred = new Array(y.length);\n",
    "\n",
    "utils.leaveOneGroupOut(X, y, groups, function(x_train, y_train, x_test, y_test, train_ind, test_ind){\n",
    "    let clf = new qm.analytics.SVC({c: 1.0, algorithm: 'LIBSVM', kernel: 'LINEAR' });\n",
    "    \n",
    "    // train the model\n",
    "    clf.fit(x_train, y_train);\n",
    "    \n",
    "    // get predictions\n",
    "    for(let i = 0;i < x_test.cols; i++)\n",
    "        y_pred[test_ind[i]] = clf.predict(x_test.getCol(i));\n",
    "});\n",
    "\n",
    "// to qminer vector\n",
    "y_pred = qm.la.Vector(y_pred);\n"
   ]
  },
  {
   "cell_type": "code",
   "execution_count": 45,
   "metadata": {},
   "outputs": [
    {
     "name": "stdout",
     "output_type": "stream",
     "text": [
      "Precision: 0.55\n",
      "Recall: 0.6470588235294118\n",
      "TP: 11 FP: 9\n",
      "TN: 4 FN: 6\n"
     ]
    }
   ],
   "source": [
    "// analyze results\n",
    "scores = new qm.analytics.metrics.ClassificationScore(y, y_pred).scores;\n",
    "    \n",
    "console.log(\"Precision: \" + scores.precision());\n",
    "console.log(\"Recall: \" + scores.recall());\n",
    "\n",
    "console.log(\"TP: \" + scores.TP + \" FP: \" + scores.FP);\n",
    "console.log(\"TN: \" + scores.TN + \" FN: \" + scores.FN);"
   ]
  },
  {
   "cell_type": "code",
   "execution_count": null,
   "metadata": {},
   "outputs": [],
   "source": []
  }
 ],
 "metadata": {
  "kernelspec": {
   "display_name": "Javascript (Node.js)",
   "language": "javascript",
   "name": "javascript"
  },
  "language_info": {
   "file_extension": ".js",
   "mimetype": "application/javascript",
   "name": "javascript",
   "version": "8.10.0"
  }
 },
 "nbformat": 4,
 "nbformat_minor": 2
}
